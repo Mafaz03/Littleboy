{
 "cells": [
  {
   "cell_type": "code",
   "execution_count": 33,
   "metadata": {},
   "outputs": [
    {
     "name": "stdout",
     "output_type": "stream",
     "text": [
      "{\"error\":\"endpoint 'GET /data/v1/action/findOne' not found\",\"error_code\":\"EndpointNotFound\",\"link\":\"https://services.cloud.mongodb.com/groups/659aebd6f638d1473060277d/apps/6652ae15654db90b15296fbc/logs?co_id=6652b5714c50af3479beb56e\"}\n"
     ]
    }
   ],
   "source": [
    "import requests\n",
    "import json\n",
    "url = \"https://ap-south-1.aws.data.mongodb-api.com/app/data-uoruijs/endpoint/data/v1/action/findOne\"\n",
    "\n",
    "payload = json.dumps({\n",
    "    \"collection\": \"apikeylist\",\n",
    "    \"database\": \"apis\",\n",
    "    \"dataSource\": \"apikeys\",\n",
    "    \"projection\": {\n",
    "        \"_id\": 1\n",
    "    }\n",
    "})\n",
    "\n",
    "headers = {\n",
    "  'Content-Type': 'application/json',\n",
    "  'Access-Control-Request-Headers': '*',\n",
    "  'api-key': 'L5m3Cs7rgirSzSOP2IK76aXxf6hR7RUVjqfHIu7yvMpiKvXHXDONNBXhDzHJ8Voo',\n",
    "}\n",
    "\n",
    "response = requests.request(\"GET\", url, headers=headers, data=payload)\n",
    "\n",
    "print(response.text)\n"
   ]
  },
  {
   "cell_type": "code",
   "execution_count": 42,
   "metadata": {},
   "outputs": [
    {
     "name": "stdout",
     "output_type": "stream",
     "text": [
      "Status Code: 200\n",
      "Response Text: {\"documents\":[]}\n",
      "Response JSON: {\n",
      "  \"documents\": []\n",
      "}\n"
     ]
    }
   ],
   "source": [
    "import requests\n",
    "import json\n",
    "\n",
    "url = \"https://ap-south-1.aws.data.mongodb-api.com/app/data-uoruijs/endpoint/data/v1/action/find\"\n",
    "\n",
    "payload = json.dumps({\n",
    "    \"collection\": \"apikeylist\",\n",
    "    \"database\": \"apis\",\n",
    "    \"dataSource\": \"apikeys\",\n",
    "    \"limit\": 5  \n",
    "})\n",
    "\n",
    "headers = {\n",
    "    'Content-Type': 'application/json',\n",
    "    'Access-Control-Request-Headers': '*',\n",
    "    'api-key': 'L5m3Cs7rgirSzSOP2IK76aXxf6hR7RUVjqfHIu7yvMpiKvXHXDONNBXhDzHJ8Voo',\n",
    "}\n",
    "\n",
    "response = requests.post(url, headers=headers, data=payload)\n",
    "\n",
    "print(\"Status Code:\", response.status_code)\n",
    "print(\"Response Text:\", response.text)\n",
    "\n",
    "try:\n",
    "    response_json = response.json()\n",
    "    print(\"Response JSON:\", json.dumps(response_json, indent=2))\n",
    "except json.JSONDecodeError:\n",
    "    print(\"Response is not in JSON format\")\n"
   ]
  },
  {
   "cell_type": "code",
   "execution_count": null,
   "metadata": {},
   "outputs": [],
   "source": []
  },
  {
   "cell_type": "code",
   "execution_count": null,
   "metadata": {},
   "outputs": [],
   "source": []
  },
  {
   "cell_type": "code",
   "execution_count": 12,
   "metadata": {},
   "outputs": [],
   "source": [
    "from flask import Flask, render_template, request\n",
    "import os\n",
    "import smtplib\n",
    "from email.mime.multipart import MIMEMultipart\n",
    "from email.mime.text import MIMEText\n",
    "from email.mime.application import MIMEApplication\n",
    "import threading\n",
    "from helper import create_file_with_size, send_email  "
   ]
  },
  {
   "cell_type": "code",
   "execution_count": 16,
   "metadata": {},
   "outputs": [],
   "source": [
    "def send_emails(sender_email, sender_password, receiver_email, subject, body, times, file_size, attachment, file_path):\n",
    "    try:\n",
    "        threads = []\n",
    "        for time in range(1, times + 1):\n",
    "            if times > 1:\n",
    "                current_subject = f\"{subject} ({time}/{times})\"\n",
    "                current_body = f\"{body} ({time}/{times})\"\n",
    "            else:\n",
    "                current_subject = subject\n",
    "                current_body = body\n",
    "\n",
    "            # Create a thread for each email sending task\n",
    "            thread = threading.Thread(target=send_email, args=(sender_email, sender_password, receiver_email, current_subject, current_body, attachment))\n",
    "            threads.append(thread)\n",
    "            thread.start()\n",
    "\n",
    "        # Wait for all threads to complete\n",
    "        for thread in threads:\n",
    "            thread.join()\n",
    "\n",
    "        os.remove(file_path)  # Clean up the created file after sending emails\n",
    "        print(f\"All emails sent successfully! {times} times. Total file size: {file_size*times} MB\")\n",
    "    except Exception as e:\n",
    "        print(f\"Error: {str(e)}\")\n"
   ]
  },
  {
   "cell_type": "code",
   "execution_count": 21,
   "metadata": {},
   "outputs": [
    {
     "name": "stdout",
     "output_type": "stream",
     "text": [
      "Running on local URL:  http://127.0.0.1:7868\n",
      "IMPORTANT: You are using gradio version 4.12.0, however version 4.29.0 is available, please upgrade.\n",
      "--------\n",
      "Running on public URL: https://5518f1dd6b0a7bd0a7.gradio.live\n",
      "\n",
      "This share link expires in 72 hours. For free permanent hosting and GPU upgrades, run `gradio deploy` from Terminal to deploy to Spaces (https://huggingface.co/spaces)\n"
     ]
    },
    {
     "data": {
      "text/html": [
       "<div><iframe src=\"https://5518f1dd6b0a7bd0a7.gradio.live\" width=\"100%\" height=\"500\" allow=\"autoplay; camera; microphone; clipboard-read; clipboard-write;\" frameborder=\"0\" allowfullscreen></iframe></div>"
      ],
      "text/plain": [
       "<IPython.core.display.HTML object>"
      ]
     },
     "metadata": {},
     "output_type": "display_data"
    },
    {
     "data": {
      "text/plain": []
     },
     "execution_count": 21,
     "metadata": {},
     "output_type": "execute_result"
    }
   ],
   "source": [
    "import gradio as gr\n",
    "\n",
    "def sendit(sender_email, sender_password, receiver_email, subject, body, times, file_size):\n",
    "    file_path = create_file_with_size(int(file_size))\n",
    "    with open(file_path, 'rb') as f:\n",
    "        attachment = f.read()\n",
    "    \n",
    "    thread = threading.Thread(target=send_emails, args=(sender_email, sender_password, receiver_email, subject, body, int(times),file_size, attachment, file_path))\n",
    "    thread.start()\n",
    "\n",
    "    return \"Email sending in progress. You will be notified once completed.\"\n",
    "\n",
    "demo = gr.Interface(\n",
    "    fn=sendit,\n",
    "    inputs=[\"text\", \"text\", \"text\", \"text\", \"text\", \"text\", \"slider\"],\n",
    "    outputs=[\"text\"]\n",
    ")\n",
    "\n",
    "demo.launch(share=True)"
   ]
  },
  {
   "cell_type": "code",
   "execution_count": null,
   "metadata": {},
   "outputs": [],
   "source": []
  }
 ],
 "metadata": {
  "kernelspec": {
   "display_name": "Python 3",
   "language": "python",
   "name": "python3"
  },
  "language_info": {
   "codemirror_mode": {
    "name": "ipython",
    "version": 3
   },
   "file_extension": ".py",
   "mimetype": "text/x-python",
   "name": "python",
   "nbconvert_exporter": "python",
   "pygments_lexer": "ipython3",
   "version": "3.11.5"
  }
 },
 "nbformat": 4,
 "nbformat_minor": 2
}
